{
 "cells": [
  {
   "cell_type": "markdown",
   "metadata": {
    "id": "JBsv2_M4Cw0I"
   },
   "source": [
    "# Introduction"
   ]
  },
  {
   "cell_type": "markdown",
   "metadata": {
    "id": "mnsmScbxCw0L"
   },
   "source": [
    "In this notebook, we will download our data in the form of a .zip file hosted on Google Drive at [this link](https://drive.google.com/file/d/1SnmIPhf1ey34NK-oL0a2t4WrrLQQabL2/view?usp=sharing) into our working directory and unzip the data, also into our working directory. This is a nessassary step due to the large size of our dataset, over 5 GB of images unziped, as can be seen at the original datasource [here](https://dataverse.harvard.edu/dataset.xhtml?persistentId=doi:10.7910/DVN/DBW86T). If any portion of the code below does not work properly, check to ensure that the nessassary libraries are installed correctly. If it continues not to work, manually download the .zip file [here](https://drive.google.com/file/d/1SnmIPhf1ey34NK-oL0a2t4WrrLQQabL2/view?usp=sharing) and unzip it into ones working directory before proceeding to the next notebook."
   ]
  },
  {
   "cell_type": "code",
   "execution_count": 1,
   "metadata": {
    "executionInfo": {
     "elapsed": 1048,
     "status": "ok",
     "timestamp": 1678170708582,
     "user": {
      "displayName": "Daniel Logan",
      "userId": "16367241882474432394"
     },
     "user_tz": 480
    },
    "id": "DxC-zayYcCZF"
   },
   "outputs": [],
   "source": [
    "import gdown\n",
    "import zipfile"
   ]
  },
  {
   "cell_type": "code",
   "execution_count": 2,
   "metadata": {
    "colab": {
     "base_uri": "https://localhost:8080/"
    },
    "executionInfo": {
     "elapsed": 856,
     "status": "ok",
     "timestamp": 1678170893422,
     "user": {
      "displayName": "Daniel Logan",
      "userId": "16367241882474432394"
     },
     "user_tz": 480
    },
    "id": "CEU4jB--cf2U",
    "outputId": "563e6982-22ec-4eee-87fc-320c57abb58b"
   },
   "outputs": [],
   "source": [
    "!gdown --id 1SnmIPhf1ey34NK-oL0a2t4WrrLQQabL2"
   ]
  },
  {
   "cell_type": "markdown",
   "metadata": {
    "id": "p7VOX0qvCw0O"
   },
   "source": [
    "Once the process of downloading the entirety of our zip file to our working directory has been completed, it is time to unzip the contents into the same directory."
   ]
  },
  {
   "cell_type": "code",
   "execution_count": 3,
   "metadata": {
    "colab": {
     "base_uri": "https://localhost:8080/",
     "height": 322
    },
    "executionInfo": {
     "elapsed": 241,
     "status": "error",
     "timestamp": 1678170716828,
     "user": {
      "displayName": "Daniel Logan",
      "userId": "16367241882474432394"
     },
     "user_tz": 480
    },
    "id": "-TACrhdhdhs8",
    "outputId": "59ee81dd-1caf-4ce0-ccf8-96c4602a392e"
   },
   "outputs": [],
   "source": [
    "zip_file = zipfile.ZipFile(\"Daniel Logan Capstone Data.zip\")\n",
    "zip_file.extractall()\n",
    "zip_file.close()"
   ]
  },
  {
   "cell_type": "markdown",
   "metadata": {
    "id": "jWQa0hkfCw0P"
   },
   "source": [
    "# Conclusion"
   ]
  },
  {
   "cell_type": "markdown",
   "metadata": {
    "id": "EbdBVqjhCw0P"
   },
   "source": [
    "In this notebook, we downloaded data from a publically available Google Drive Folder and unziped this data into our working directory. After completeing this step of data retrieval, we will be able to proceed onwards to our second notebook where we will be performing exploratory data analysis (EDA) and conducting some image preprocessing on this data prior to modeling."
   ]
  }
 ],
 "metadata": {
  "colab": {
   "provenance": []
  },
  "kernelspec": {
   "display_name": "deeplearning",
   "language": "python",
   "name": "deeplearning"
  },
  "language_info": {
   "codemirror_mode": {
    "name": "ipython",
    "version": 3
   },
   "file_extension": ".py",
   "mimetype": "text/x-python",
   "name": "python",
   "nbconvert_exporter": "python",
   "pygments_lexer": "ipython3",
   "version": "3.8.13"
  }
 },
 "nbformat": 4,
 "nbformat_minor": 1
}
